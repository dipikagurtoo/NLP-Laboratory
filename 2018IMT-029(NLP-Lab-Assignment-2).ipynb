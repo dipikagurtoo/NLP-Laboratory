{
 "cells": [
  {
   "cell_type": "code",
   "execution_count": 40,
   "id": "409fb69c",
   "metadata": {},
   "outputs": [],
   "source": [
    "from nltk.tokenize import word_tokenize\n",
    "from nltk.stem import PorterStemmer\n",
    "from nltk.stem.snowball import SnowballStemmer"
   ]
  },
  {
   "cell_type": "code",
   "execution_count": 41,
   "id": "2d1bc6b2",
   "metadata": {},
   "outputs": [],
   "source": [
    "#   initializing stemmer algorithms\n",
    "p_stemmer = PorterStemmer()\n",
    "s_stemmer = SnowballStemmer(language='english')"
   ]
  },
  {
   "cell_type": "code",
   "execution_count": 42,
   "id": "adc0c38a",
   "metadata": {},
   "outputs": [
    {
     "name": "stdout",
     "output_type": "stream",
     "text": [
      "Enter the string for stemming:\n",
      "generous generously  generate generation fairly easily runs\n"
     ]
    }
   ],
   "source": [
    "#   Taking user input\n",
    "print(\"Enter the string for stemming:\")\n",
    "entered_text = input()"
   ]
  },
  {
   "cell_type": "code",
   "execution_count": 43,
   "id": "a06a9f3b",
   "metadata": {},
   "outputs": [],
   "source": [
    "#   Word Tokenization\n",
    "tokenized_input = word_tokenize(entered_text)"
   ]
  },
  {
   "cell_type": "markdown",
   "id": "e800150a",
   "metadata": {},
   "source": [
    "# Porter Stemming"
   ]
  },
  {
   "cell_type": "code",
   "execution_count": 44,
   "id": "3ed55200",
   "metadata": {},
   "outputs": [
    {
     "name": "stdout",
     "output_type": "stream",
     "text": [
      "\n",
      " String after Porter Stemming:\n",
      "generous ------> gener\n",
      "generously ------> gener\n",
      "generate ------> gener\n",
      "generation ------> gener\n",
      "fairly ------> fairli\n",
      "easily ------> easili\n",
      "runs ------> run\n",
      "\n",
      "\n"
     ]
    }
   ],
   "source": [
    "print(\"\\n String after Porter Stemming:\")\n",
    "for token in tokenized_input:\n",
    "    print(token+' ------> '+p_stemmer.stem(token))\n",
    "print(\"\\n\")"
   ]
  },
  {
   "cell_type": "markdown",
   "id": "63a9700b",
   "metadata": {},
   "source": [
    "# Snowball Stemming"
   ]
  },
  {
   "cell_type": "code",
   "execution_count": 45,
   "id": "e881c572",
   "metadata": {},
   "outputs": [
    {
     "name": "stdout",
     "output_type": "stream",
     "text": [
      "\n",
      " String after Snowball Stemming:\n",
      "generous ------> generous\n",
      "generously ------> generous\n",
      "generate ------> generat\n",
      "generation ------> generat\n",
      "fairly ------> fair\n",
      "easily ------> easili\n",
      "runs ------> run\n",
      "\n",
      "\n"
     ]
    }
   ],
   "source": [
    "print(\"\\n String after Snowball Stemming:\")\n",
    "for token in tokenized_input:\n",
    "    print(token+' ------> '+s_stemmer.stem(token))\n",
    "print(\"\\n\")"
   ]
  },
  {
   "cell_type": "code",
   "execution_count": null,
   "id": "6d14da70",
   "metadata": {},
   "outputs": [],
   "source": []
  }
 ],
 "metadata": {
  "kernelspec": {
   "display_name": "Python 3 (ipykernel)",
   "language": "python",
   "name": "python3"
  },
  "language_info": {
   "codemirror_mode": {
    "name": "ipython",
    "version": 3
   },
   "file_extension": ".py",
   "mimetype": "text/x-python",
   "name": "python",
   "nbconvert_exporter": "python",
   "pygments_lexer": "ipython3",
   "version": "3.9.7"
  }
 },
 "nbformat": 4,
 "nbformat_minor": 5
}
