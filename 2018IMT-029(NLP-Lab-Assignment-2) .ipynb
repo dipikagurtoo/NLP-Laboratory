{
 "cells": [
  {
   "cell_type": "markdown",
   "id": "58d27f82",
   "metadata": {},
   "source": [
    "# NLP Laboratory \n",
    "# Assignment-2\n",
    "## Submitted By: DIPIKA GURTU\n",
    "## Roll No.: 2018IMT-029"
   ]
  },
  {
   "cell_type": "code",
   "execution_count": 56,
   "id": "9bcfda95",
   "metadata": {},
   "outputs": [],
   "source": [
    "from nltk.tokenize import word_tokenize\n",
    "from nltk.stem import PorterStemmer\n",
    "from nltk.stem.snowball import SnowballStemmer\n",
    "from nltk.stem import LancasterStemmer\n",
    "from nltk.stem import RegexpStemmer"
   ]
  },
  {
   "cell_type": "code",
   "execution_count": 58,
   "id": "6e81de09",
   "metadata": {},
   "outputs": [],
   "source": [
    "#   initializing stemmer algorithms\n",
    "p_stemmer = PorterStemmer()\n",
    "s_stemmer = SnowballStemmer(language='english')\n",
    "l_stemmer = LancasterStemmer()\n",
    "r_stemmer = RegexpStemmer('ing$|s$|e$|able$', min=4)"
   ]
  },
  {
   "cell_type": "code",
   "execution_count": 59,
   "id": "8c043952",
   "metadata": {},
   "outputs": [
    {
     "name": "stdout",
     "output_type": "stream",
     "text": [
      "Enter the string for stemming:\n",
      "generous generously  generate generation fairly easily runs\n"
     ]
    }
   ],
   "source": [
    "#   Taking user input\n",
    "print(\"Enter the string for stemming:\")\n",
    "entered_text = input()"
   ]
  },
  {
   "cell_type": "code",
   "execution_count": 60,
   "id": "d4da6d4e",
   "metadata": {},
   "outputs": [],
   "source": [
    "#   Word Tokenization\n",
    "tokenized_input = word_tokenize(entered_text)"
   ]
  },
  {
   "cell_type": "markdown",
   "id": "d4d272f5",
   "metadata": {},
   "source": [
    "# Porter Stemming"
   ]
  },
  {
   "cell_type": "code",
   "execution_count": 61,
   "id": "69df47b6",
   "metadata": {},
   "outputs": [
    {
     "name": "stdout",
     "output_type": "stream",
     "text": [
      "\n",
      " String after Porter Stemming:\n",
      "generous ------> gener\n",
      "generously ------> gener\n",
      "generate ------> gener\n",
      "generation ------> gener\n",
      "fairly ------> fairli\n",
      "easily ------> easili\n",
      "runs ------> run\n",
      "\n",
      "\n"
     ]
    }
   ],
   "source": [
    "print(\"\\n String after Porter Stemming:\")\n",
    "for token in tokenized_input:\n",
    "    print(token+' ------> '+p_stemmer.stem(token))\n",
    "print(\"\\n\")"
   ]
  },
  {
   "cell_type": "markdown",
   "id": "916bcb5d",
   "metadata": {},
   "source": [
    "# Snowball Stemming"
   ]
  },
  {
   "cell_type": "code",
   "execution_count": 62,
   "id": "38250be0",
   "metadata": {},
   "outputs": [
    {
     "name": "stdout",
     "output_type": "stream",
     "text": [
      "\n",
      " String after Snowball Stemming:\n",
      "generous ------> generous\n",
      "generously ------> generous\n",
      "generate ------> generat\n",
      "generation ------> generat\n",
      "fairly ------> fair\n",
      "easily ------> easili\n",
      "runs ------> run\n",
      "\n",
      "\n"
     ]
    }
   ],
   "source": [
    "print(\"\\n String after Snowball Stemming:\")\n",
    "for token in tokenized_input:\n",
    "    print(token+' ------> '+s_stemmer.stem(token))\n",
    "print(\"\\n\")"
   ]
  },
  {
   "cell_type": "markdown",
   "id": "cf339ac5",
   "metadata": {},
   "source": [
    "# Lancaster Stemming"
   ]
  },
  {
   "cell_type": "code",
   "execution_count": 66,
   "id": "037c7017",
   "metadata": {},
   "outputs": [
    {
     "name": "stdout",
     "output_type": "stream",
     "text": [
      "\n",
      " String after Lancaster Stemming:\n",
      "generous ------> gen\n",
      "generously ------> gen\n",
      "generate ------> gen\n",
      "generation ------> gen\n",
      "fairly ------> fair\n",
      "easily ------> easy\n",
      "runs ------> run\n",
      "\n",
      "\n"
     ]
    }
   ],
   "source": [
    "print(\"\\n String after Lancaster Stemming:\")\n",
    "for token in tokenized_input:\n",
    "    print(token+' ------> '+l_stemmer.stem(token))\n",
    "print(\"\\n\")"
   ]
  },
  {
   "cell_type": "markdown",
   "id": "a4a413c0",
   "metadata": {},
   "source": [
    "# Regexp Stemming"
   ]
  },
  {
   "cell_type": "code",
   "execution_count": 67,
   "id": "274034a3",
   "metadata": {},
   "outputs": [
    {
     "name": "stdout",
     "output_type": "stream",
     "text": [
      "\n",
      " String after Regexp Stemming:\n",
      "generous ------> generou\n",
      "generously ------> generously\n",
      "generate ------> generat\n",
      "generation ------> generation\n",
      "fairly ------> fairly\n",
      "easily ------> easily\n",
      "runs ------> run\n",
      "\n",
      "\n"
     ]
    }
   ],
   "source": [
    "print(\"\\n String after Regexp Stemming:\")\n",
    "for token in tokenized_input:\n",
    "    print(token+' ------> '+r_stemmer.stem(token))\n",
    "print(\"\\n\")"
   ]
  },
  {
   "cell_type": "code",
   "execution_count": null,
   "id": "c17a9a9b",
   "metadata": {},
   "outputs": [],
   "source": []
  },
  {
   "cell_type": "code",
   "execution_count": null,
   "id": "aa36cf6d",
   "metadata": {},
   "outputs": [],
   "source": []
  }
 ],
 "metadata": {
  "kernelspec": {
   "display_name": "Python 3 (ipykernel)",
   "language": "python",
   "name": "python3"
  },
  "language_info": {
   "codemirror_mode": {
    "name": "ipython",
    "version": 3
   },
   "file_extension": ".py",
   "mimetype": "text/x-python",
   "name": "python",
   "nbconvert_exporter": "python",
   "pygments_lexer": "ipython3",
   "version": "3.9.7"
  }
 },
 "nbformat": 4,
 "nbformat_minor": 5
}
