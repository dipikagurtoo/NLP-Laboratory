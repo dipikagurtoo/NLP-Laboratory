{
 "cells": [
  {
   "cell_type": "code",
   "execution_count": 3,
   "id": "cb03baad",
   "metadata": {},
   "outputs": [],
   "source": [
    "import nltk\n",
    "from nltk.corpus import stopwords\n",
    "from nltk.tokenize import word_tokenize, sent_tokenize\n",
    "stop_words = set(stopwords.words('english'))"
   ]
  },
  {
   "cell_type": "markdown",
   "id": "de39bd97",
   "metadata": {},
   "source": [
    "#   Taking user input"
   ]
  },
  {
   "cell_type": "code",
   "execution_count": 10,
   "id": "5f6c02ca",
   "metadata": {},
   "outputs": [
    {
     "name": "stdout",
     "output_type": "stream",
     "text": [
      "Enter the text for POS Tagging:\n",
      "My Name is Dipika Gurtu.\n",
      "\n",
      "\n"
     ]
    }
   ],
   "source": [
    "print(\"Enter the text for POS Tagging:\")\n",
    "entered_text_corpus = input()\n",
    "print(\"\\n\")"
   ]
  },
  {
   "cell_type": "code",
   "execution_count": 11,
   "id": "395caa56",
   "metadata": {},
   "outputs": [
    {
     "name": "stderr",
     "output_type": "stream",
     "text": [
      "[nltk_data] Downloading package averaged_perceptron_tagger to\n",
      "[nltk_data]     C:\\Users\\USER\\AppData\\Roaming\\nltk_data...\n",
      "[nltk_data]   Package averaged_perceptron_tagger is already up-to-\n",
      "[nltk_data]       date!\n"
     ]
    },
    {
     "data": {
      "text/plain": [
       "True"
      ]
     },
     "execution_count": 11,
     "metadata": {},
     "output_type": "execute_result"
    }
   ],
   "source": [
    "nltk.download('averaged_perceptron_tagger')"
   ]
  },
  {
   "cell_type": "markdown",
   "id": "7a4697a5",
   "metadata": {},
   "source": [
    "# Sentence Tokenize"
   ]
  },
  {
   "cell_type": "code",
   "execution_count": 12,
   "id": "a853c80c",
   "metadata": {},
   "outputs": [
    {
     "name": "stdout",
     "output_type": "stream",
     "text": [
      "[('My', 'PRP$'), ('Name', 'NN'), ('Dipika', 'NNP'), ('Gurtu', 'NNP'), ('.', '.')]\n",
      "\n",
      "\n"
     ]
    }
   ],
   "source": [
    "tokenized = sent_tokenize(entered_text_corpus)\n",
    "\n",
    "for i in tokenized:    \n",
    "    # Word Tokenization\n",
    "    wordsList = nltk.word_tokenize(i)\n",
    "    \n",
    "    # Removing Stop Words\n",
    "    wordsList = [w for w in wordsList if not w in stop_words]\n",
    " \n",
    "    #  Using a Tagger. Which is part-of-speech tagger or POS-tagger.\n",
    "    tagged = nltk.pos_tag(wordsList)\n",
    " \n",
    "    print(tagged)\n",
    "    print(\"\\n\")"
   ]
  },
  {
   "cell_type": "code",
   "execution_count": null,
   "id": "5a23c958",
   "metadata": {},
   "outputs": [],
   "source": []
  }
 ],
 "metadata": {
  "kernelspec": {
   "display_name": "Python 3 (ipykernel)",
   "language": "python",
   "name": "python3"
  },
  "language_info": {
   "codemirror_mode": {
    "name": "ipython",
    "version": 3
   },
   "file_extension": ".py",
   "mimetype": "text/x-python",
   "name": "python",
   "nbconvert_exporter": "python",
   "pygments_lexer": "ipython3",
   "version": "3.9.7"
  }
 },
 "nbformat": 4,
 "nbformat_minor": 5
}
